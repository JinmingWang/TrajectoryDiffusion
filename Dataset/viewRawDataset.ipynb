{
 "cells": [
  {
   "cell_type": "code",
   "execution_count": 3,
   "metadata": {},
   "outputs": [
    {
     "name": "stderr",
     "output_type": "stream",
     "text": [
      "c:\\Users\\lenovo\\AppData\\Local\\Programs\\Python\\Python39\\lib\\site-packages\\tqdm\\auto.py:22: TqdmWarning: IProgress not found. Please update jupyter and ipywidgets. See https://ipywidgets.readthedocs.io/en/stable/user_install.html\n",
      "  from .autonotebook import tqdm as notebook_tqdm\n"
     ]
    }
   ],
   "source": [
    "import os\n",
    "import torch"
   ]
  },
  {
   "cell_type": "code",
   "execution_count": 2,
   "metadata": {},
   "outputs": [
    {
     "data": {
      "text/plain": [
       "['E:/Data/Didi/chengdu/nov\\\\gps_20161101.pt',\n",
       " 'E:/Data/Didi/chengdu/nov\\\\gps_20161102.pt',\n",
       " 'E:/Data/Didi/chengdu/nov\\\\gps_20161103.pt',\n",
       " 'E:/Data/Didi/chengdu/nov\\\\gps_20161104.pt',\n",
       " 'E:/Data/Didi/chengdu/nov\\\\gps_20161105.pt',\n",
       " 'E:/Data/Didi/chengdu/nov\\\\gps_20161106.pt',\n",
       " 'E:/Data/Didi/chengdu/nov\\\\gps_20161107.pt',\n",
       " 'E:/Data/Didi/chengdu/nov\\\\gps_20161108.pt',\n",
       " 'E:/Data/Didi/chengdu/nov\\\\gps_20161109.pt',\n",
       " 'E:/Data/Didi/chengdu/nov\\\\gps_20161110.pt',\n",
       " 'E:/Data/Didi/chengdu/nov\\\\gps_20161111.pt',\n",
       " 'E:/Data/Didi/chengdu/nov\\\\gps_20161112.pt',\n",
       " 'E:/Data/Didi/chengdu/nov\\\\gps_20161113.pt',\n",
       " 'E:/Data/Didi/chengdu/nov\\\\gps_20161114.pt',\n",
       " 'E:/Data/Didi/chengdu/nov\\\\gps_20161115.pt',\n",
       " 'E:/Data/Didi/chengdu/nov\\\\gps_20161116.pt',\n",
       " 'E:/Data/Didi/chengdu/nov\\\\gps_20161117.pt',\n",
       " 'E:/Data/Didi/chengdu/nov\\\\gps_20161118.pt',\n",
       " 'E:/Data/Didi/chengdu/nov\\\\gps_20161119.pt',\n",
       " 'E:/Data/Didi/chengdu/nov\\\\gps_20161120.pt',\n",
       " 'E:/Data/Didi/chengdu/nov\\\\gps_20161121.pt',\n",
       " 'E:/Data/Didi/chengdu/nov\\\\gps_20161122.pt',\n",
       " 'E:/Data/Didi/chengdu/nov\\\\gps_20161123.pt',\n",
       " 'E:/Data/Didi/chengdu/nov\\\\gps_20161124.pt',\n",
       " 'E:/Data/Didi/chengdu/nov\\\\gps_20161125.pt',\n",
       " 'E:/Data/Didi/chengdu/nov\\\\gps_20161126.pt',\n",
       " 'E:/Data/Didi/chengdu/nov\\\\gps_20161127.pt',\n",
       " 'E:/Data/Didi/chengdu/nov\\\\gps_20161128.pt',\n",
       " 'E:/Data/Didi/chengdu/nov\\\\gps_20161129.pt',\n",
       " 'E:/Data/Didi/chengdu/nov\\\\gps_20161130.pt']"
      ]
     },
     "execution_count": 2,
     "metadata": {},
     "output_type": "execute_result"
    }
   ],
   "source": [
    "dataset_root = 'E:/Data/Didi/chengdu/nov'\n",
    "file_paths = [os.path.join(dataset_root, file) for file in os.listdir(dataset_root) if file.endswith('.pt')]\n",
    "file_paths"
   ]
  },
  {
   "cell_type": "code",
   "execution_count": 4,
   "metadata": {},
   "outputs": [],
   "source": [
    "dataset = torch.load(file_paths[0])"
   ]
  },
  {
   "cell_type": "markdown",
   "metadata": {},
   "source": [
    "As you can see, dataset[i] has format (driver_id, order_id, lon_lat_tensor, time_tensor)"
   ]
  },
  {
   "cell_type": "code",
   "execution_count": 7,
   "metadata": {},
   "outputs": [
    {
     "data": {
      "text/plain": [
       "('280281e5fc31d9fedb8580d98c46a84b',\n",
       " '07a431a68b6b40a1237cfb7f07f00aa1',\n",
       " tensor([[104.0749,  30.7261],\n",
       "         [104.0749,  30.7257],\n",
       "         [104.0748,  30.7254],\n",
       "         [104.0747,  30.7251],\n",
       "         [104.0745,  30.7248],\n",
       "         [104.0741,  30.7246],\n",
       "         [104.0738,  30.7244],\n",
       "         [104.0734,  30.7241],\n",
       "         [104.0730,  30.7241],\n",
       "         [104.0728,  30.7241],\n",
       "         [104.0724,  30.7242],\n",
       "         [104.0722,  30.7242],\n",
       "         [104.0718,  30.7243],\n",
       "         [104.0714,  30.7243],\n",
       "         [104.0710,  30.7244],\n",
       "         [104.0706,  30.7244],\n",
       "         [104.0701,  30.7245],\n",
       "         [104.0700,  30.7245],\n",
       "         [104.0699,  30.7243],\n",
       "         [104.0699,  30.7243],\n",
       "         [104.0699,  30.7243],\n",
       "         [104.0699,  30.7243],\n",
       "         [104.0699,  30.7243],\n",
       "         [104.0699,  30.7243],\n",
       "         [104.0699,  30.7243],\n",
       "         [104.0699,  30.7243],\n",
       "         [104.0699,  30.7243],\n",
       "         [104.0699,  30.7243],\n",
       "         [104.0699,  30.7242],\n",
       "         [104.0699,  30.7241],\n",
       "         [104.0698,  30.7239],\n",
       "         [104.0698,  30.7238],\n",
       "         [104.0698,  30.7237],\n",
       "         [104.0698,  30.7235],\n",
       "         [104.0697,  30.7232],\n",
       "         [104.0697,  30.7230],\n",
       "         [104.0697,  30.7228],\n",
       "         [104.0696,  30.7225],\n",
       "         [104.0695,  30.7223],\n",
       "         [104.0694,  30.7221],\n",
       "         [104.0693,  30.7219],\n",
       "         [104.0692,  30.7218],\n",
       "         [104.0692,  30.7218],\n",
       "         [104.0692,  30.7218],\n",
       "         [104.0692,  30.7218],\n",
       "         [104.0692,  30.7218],\n",
       "         [104.0692,  30.7218]], dtype=torch.float64),\n",
       " tensor([1478003863, 1478003866, 1478003869, 1478003872, 1478003875, 1478003878,\n",
       "         1478003881, 1478003884, 1478003887, 1478003890, 1478003893, 1478003896,\n",
       "         1478003899, 1478003903, 1478003907, 1478003911, 1478003914, 1478003917,\n",
       "         1478003923, 1478003926, 1478003929, 1478003932, 1478003935, 1478003938,\n",
       "         1478003941, 1478003944, 1478003947, 1478003950, 1478003953, 1478003956,\n",
       "         1478003959, 1478003962, 1478003965, 1478003968, 1478003971, 1478003974,\n",
       "         1478003977, 1478003980, 1478003983, 1478003986, 1478003989, 1478003992,\n",
       "         1478003995, 1478004001, 1478004002, 1478004004, 1478004005]))"
      ]
     },
     "execution_count": 7,
     "metadata": {},
     "output_type": "execute_result"
    }
   ],
   "source": [
    "dataset[6]"
   ]
  },
  {
   "cell_type": "code",
   "execution_count": 8,
   "metadata": {},
   "outputs": [
    {
     "name": "stdout",
     "output_type": "stream",
     "text": [
      "1 2 3 4\n",
      "5 6 7 8\n"
     ]
    }
   ],
   "source": [
    "l = [(1, 2, 3, 4), (5, 6, 7, 8)]\n",
    "for (a, b, c, d) in l:\n",
    "    print(a, b, c, d    )"
   ]
  }
 ],
 "metadata": {
  "kernelspec": {
   "display_name": "Python 3",
   "language": "python",
   "name": "python3"
  },
  "language_info": {
   "codemirror_mode": {
    "name": "ipython",
    "version": 3
   },
   "file_extension": ".py",
   "mimetype": "text/x-python",
   "name": "python",
   "nbconvert_exporter": "python",
   "pygments_lexer": "ipython3",
   "version": "3.9.12"
  }
 },
 "nbformat": 4,
 "nbformat_minor": 2
}
